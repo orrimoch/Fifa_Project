{
 "cells": [
  {
   "cell_type": "code",
   "execution_count": null,
   "id": "cd6cfd3b",
   "metadata": {},
   "outputs": [],
   "source": [
    "import requests\n",
    "from bs4 import BeautifulSoup\n",
    "\n",
    "def add_all_a_tags_from_page(page_number):\n",
    "        url_page =  f'https://www.fifaindex.com/players/fifa21_486/?page={page_number}'\n",
    "        result = requests.get(url_page)\n",
    "        doc = BeautifulSoup(result.text, \"html.parser\")\n",
    "        a_tags = doc.find_all(\"a\",{\"class\":\"link-player\"})\n",
    "        hrefs = [a['href'] for a in a_tags]\n",
    "        for single_url in hrefs:\n",
    "            conact_final_url = \"https://www.fifaindex.com\" + single_url\n",
    "            # condition for ignore duplicates\n",
    "            if conact_final_url not in players_links:\n",
    "                players_links.append(conact_final_url)\n",
    "\n",
    "players_links = []\n",
    "num_of_pages = 100\n",
    "for i in range(1,num_of_pages+1):\n",
    "    add_all_a_tags_from_page(i)\n",
    "\n",
    "print(len(players_links))\n",
    "#print(players_links)\n",
    "\n"
   ]
  },
  {
   "cell_type": "code",
   "execution_count": null,
   "id": "928477d1",
   "metadata": {},
   "outputs": [],
   "source": [
    "url_page = \"https://www.fifaindex.com/player/20801/cristiano-ronaldo/fifa21/\"\n",
    "result = requests.get(url_page)\n",
    "doc = BeautifulSoup(result.text, \"html.parser\")\n",
    "# # for i in range(1,8):\n",
    "overall_and_pot = doc.find_all(\"span\",{\"class\":\"float-right\"})[0].text\n",
    "print(overall_and_pot)\n",
    "\n",
    "\n",
    "# i = 0\n",
    "# j = 1\n",
    "# test = doc.find_all(\"h5\",{\"class\":\"card-header\"})[0].text   trying to diffrence when there is \"FIFA 22 Rankings\" \n",
    "# sen_test = \"FIFA 22 Rankings\"\n",
    "# if test == sen_test :\n",
    "#     i = 1 \n",
    "#     j = 2\n",
    "\n",
    "# test = doc.find_all(\"h5\",{\"class\":\"card-header\"})[0].text\n",
    "# print(test)\n",
    "# sen_test = \"FIFA 22 Rankings\"\n",
    "# if test == sen_test:\n",
    "#     name = doc.find_all(\"h5\",{\"class\":\"card-header\"})[1].text    the same like above\n",
    "#     club = doc.find_all(\"h5\",{\"class\":\"card-header\"})[2].text\n",
    "# else:\n",
    "#     name = doc.find_all(\"h5\",{\"class\":\"card-header\"})[0].text\n",
    "#     club = doc.find_all(\"h5\",{\"class\":\"card-header\"})[1].text\n",
    "\n",
    "\n",
    "name = doc.find_all(\"h5\",{\"class\":\"card-header\"})[1].text\n",
    "club = doc.find_all(\"h5\",{\"class\":\"card-header\"})[2].text\n",
    "name = name.replace(overall_and_pot,\"\")\n",
    "p_foot = doc.find_all(\"span\",{\"class\":\"float-right\"})[3].text\n",
    "age = doc.find_all(\"span\",{\"class\":\"float-right\"})[5].text\n",
    "work_rate = doc.find_all(\"span\",{\"class\":\"float-right\"})[7].text\n",
    "position = doc.find_all(\"span\",{\"class\":\"float-right\"})[16].text\n",
    "print(name)\n",
    "print(club)\n",
    "print(age)\n",
    "print(position)"
   ]
  },
  {
   "cell_type": "code",
   "execution_count": 16,
   "id": "dd1bd754",
   "metadata": {},
   "outputs": [
    {
     "name": "stdout",
     "output_type": "stream",
     "text": [
      "['92', '88', '28', '24', '32', '63', '95', '95', '29', '82', '95', '84', '82', '77', '87', '84', '78', '71', '91', '87', '95', '90', '94', '95', '93', '81', '76', '84', '86', '14', '7', '11', '15', '11']\n"
     ]
    }
   ],
   "source": [
    "attri = []\n",
    "for i in range(22,56):\n",
    "    attri.append(doc.find_all(\"span\",{\"class\":\"float-right\"})[i].text)\n",
    "    \n",
    "print(attri)"
   ]
  },
  {
   "cell_type": "code",
   "execution_count": 17,
   "id": "fb213bfb",
   "metadata": {},
   "outputs": [],
   "source": [
    "ball_control = attri[0]\n",
    "dribbling = attri[1]\n",
    "marking = attri[2]\n",
    "slide_tackle = attri[3]\n",
    "stand_tackle = attri[4]\n",
    "aggression = attri[5]\n",
    "reactions = attri[6]\n",
    "att_position = attri[7]\n",
    "interceptions = attri[8]\n",
    "vision = attri[9]\n",
    "composure = attri[10]\n",
    "crossing = attri[11]\n",
    "short_pass = attri[12]\n",
    "long_pass = attri[13]\n",
    "acceleration = attri[14]\n",
    "stamina = attri[15]\n",
    "strength = attri[16]\n",
    "balance = attri[17]\n",
    "sprint_speed = attri[18]\n",
    "agility = attri[19]\n",
    "jumping = attri[20]\n",
    "heading = attri[21]\n",
    "shot_power = attri[22]\n",
    "finishing = attri[23]\n",
    "long_shots = attri[24]\n",
    "curve = attri[25]\n",
    "fk_acc = attri[26]\n",
    "penalties = attri[27]\n",
    "volleys = attri[28]\n",
    "gk_positioning = attri[29]\n",
    "gk_diving = attri[30]\n",
    "gk_handling = attri[31]\n",
    "gk_kicking = attri[32]\n",
    "gk_reflexes = attri[33]"
   ]
  },
  {
   "cell_type": "code",
   "execution_count": 18,
   "id": "fb5494f2",
   "metadata": {},
   "outputs": [
    {
     "name": "stdout",
     "output_type": "stream",
     "text": [
      "{'Name': 'Cristiano Ronaldo', 'Club': ' Juventus', 'OVERALL/POT': '92 92', 'Age': '36', 'Foot': 'Right', 'Position': 'LS', 'Work-Rate': 'High / Low', 'Ball Control': '92', 'Dribbling': '88', 'Marking': '28', 'Slide Tackle': '24', 'Stand Tackle': '32', 'Aggression': '63', 'Reactions': '95', 'Att.Position': '95', 'Interceptions': '29', 'Vision': '82', 'Composure': '95', 'Crossing': '84', 'short_pass': '82', 'long_pass': '77', 'acceleration': '87', 'stamina': '84', 'strength': '78', 'balance': '71', 'sprint_speed': '91', 'agility': '87', 'jumping': '95', 'heading': '90', 'shot_power': '94', 'finishing': '95', 'long_shots': '93', 'curve': '81', 'fk_acc': '76', 'penalties': '84', 'volleys': '86', 'gk_positioning': '14', 'gk_diving': '7', 'gk_handling': '11', 'gk_kicking': '15', 'gk_reflexes': '11'}\n"
     ]
    }
   ],
   "source": [
    "item_list = []\n",
    "item = {\"Name\": name,\"Club\": club,\"OVERALL/POT\": overall_and_pot,\"Age\": age,\"Foot\": p_foot,\"Position\": position,\"Work-Rate\": work_rate,\"Ball Control\": ball_control,\"Dribbling\": dribbling,\"Marking\": marking,\"Slide Tackle\": slide_tackle,\"Stand Tackle\": stand_tackle,\"Aggression\": aggression,\"Reactions\": reactions,\"Att.Position\": att_position,\"Interceptions\": interceptions,\"Vision\": vision,\"Composure\": composure,\"Crossing\": crossing,\"short_pass\": short_pass,\"long_pass\": long_pass,\"acceleration\": acceleration,\"stamina\": stamina,\"strength\": strength,\"balance\": balance,\"sprint_speed\": sprint_speed,\"agility\": agility,\"jumping\": jumping,\"heading\": heading,\"shot_power\": shot_power,\"finishing\": finishing,\"long_shots\": long_shots,\"curve\": curve,\"fk_acc\": fk_acc,\"penalties\": penalties,\"volleys\": volleys,\"gk_positioning\": gk_positioning,\"gk_diving\": gk_diving,\"gk_handling\": gk_handling,\"gk_kicking\": gk_kicking,\"gk_reflexes\": gk_reflexes}\n",
    "print(item)\n",
    "# item_list.append(item)\n",
    "# df = pd.DataFrame(item_list)\n",
    "# print(df.head())"
   ]
  }
 ],
 "metadata": {
  "kernelspec": {
   "display_name": "Python 3",
   "language": "python",
   "name": "python3"
  },
  "language_info": {
   "codemirror_mode": {
    "name": "ipython",
    "version": 3
   },
   "file_extension": ".py",
   "mimetype": "text/x-python",
   "name": "python",
   "nbconvert_exporter": "python",
   "pygments_lexer": "ipython3",
   "version": "3.8.8"
  }
 },
 "nbformat": 4,
 "nbformat_minor": 5
}
